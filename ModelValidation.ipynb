{
  "nbformat": 4,
  "nbformat_minor": 0,
  "metadata": {
    "colab": {
      "name": "Untitled2.ipynb",
      "provenance": [],
      "authorship_tag": "ABX9TyPctpyB6RgX7exntvfOiqJt",
      "include_colab_link": true
    },
    "kernelspec": {
      "name": "python3",
      "display_name": "Python 3"
    }
  },
  "cells": [
    {
      "cell_type": "markdown",
      "metadata": {
        "id": "view-in-github",
        "colab_type": "text"
      },
      "source": [
        "<a href=\"https://colab.research.google.com/github/damien220/04-Number-Wizard-UI/blob/master/ModelValidation.ipynb\" target=\"_parent\"><img src=\"https://colab.research.google.com/assets/colab-badge.svg\" alt=\"Open In Colab\"/></a>"
      ]
    },
    {
      "cell_type": "code",
      "metadata": {
        "id": "A_mnY4GAxfIA",
        "colab_type": "code",
        "colab": {}
      },
      "source": [
        "# Load libraries\n",
        "from sklearn import datasets\n",
        "from sklearn import metrics\n",
        "from sklearn.model_selection import KFold, cross_val_score\n",
        "from sklearn.pipeline import make_pipeline\n",
        "from sklearn.linear_model import LogisticRegression\n",
        "from sklearn.preprocessing import StandardScaler\n"
      ],
      "execution_count": 0,
      "outputs": []
    },
    {
      "cell_type": "code",
      "metadata": {
        "id": "u7HM8ojz0po8",
        "colab_type": "code",
        "colab": {
          "base_uri": "https://localhost:8080/",
          "height": 36
        },
        "outputId": "81c40943-e3e7-4868-91fe-dcd712f35639"
      },
      "source": [
        "# Load digits dataset\n",
        "digits = datasets.load_digits()\n",
        "# Create features matrix\n",
        "features = digits.data\n",
        "# Create target vector\n",
        "target = digits.target\n",
        "# Create standardizer\n",
        "standardizer = StandardScaler()\n",
        "# Create logistic regression object\n",
        "logit = LogisticRegression()\n",
        "# Create a pipeline that standardizes, then runs logistic regression\n",
        "pipeline = make_pipeline(standardizer, logit)\n",
        "# Create k-Fold cross-validation\n",
        "kf = KFold(n_splits=10, shuffle=True, random_state=1)\n",
        "# Conduct k-fold cross-validation\n",
        "cv_results = cross_val_score(pipeline, # Pipeline\n",
        "features, # Feature matrix\n",
        "target, # Target vector\n",
        "cv=kf, # Cross-validation technique\n",
        "scoring=\"accuracy\", # Loss function\n",
        "n_jobs=-1) # Use all CPU scores\n",
        "# Calculate mean\n",
        "cv_results.mean()"
      ],
      "execution_count": 2,
      "outputs": [
        {
          "output_type": "execute_result",
          "data": {
            "text/plain": [
              "0.9693916821849783"
            ]
          },
          "metadata": {
            "tags": []
          },
          "execution_count": 2
        }
      ]
    }
  ]
}